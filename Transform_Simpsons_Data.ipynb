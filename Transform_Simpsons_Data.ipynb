{
 "cells": [
  {
   "cell_type": "code",
   "execution_count": 56,
   "id": "a8b1800e-6deb-40d6-8c41-fb012acccc05",
   "metadata": {
    "tags": []
   },
   "outputs": [],
   "source": [
    "import pandas as pd"
   ]
  },
  {
   "cell_type": "code",
   "execution_count": 57,
   "id": "ee8d0193-5675-401d-b600-fbb38b692c61",
   "metadata": {
    "tags": []
   },
   "outputs": [
    {
     "name": "stdout",
     "output_type": "stream",
     "text": [
      "140751\n"
     ]
    },
    {
     "data": {
      "text/html": [
       "<div>\n",
       "<style scoped>\n",
       "    .dataframe tbody tr th:only-of-type {\n",
       "        vertical-align: middle;\n",
       "    }\n",
       "\n",
       "    .dataframe tbody tr th {\n",
       "        vertical-align: top;\n",
       "    }\n",
       "\n",
       "    .dataframe thead th {\n",
       "        text-align: right;\n",
       "    }\n",
       "</style>\n",
       "<table border=\"1\" class=\"dataframe\">\n",
       "  <thead>\n",
       "    <tr style=\"text-align: right;\">\n",
       "      <th></th>\n",
       "      <th>name</th>\n",
       "      <th>line</th>\n",
       "    </tr>\n",
       "  </thead>\n",
       "  <tbody>\n",
       "    <tr>\n",
       "      <th>60430</th>\n",
       "      <td>Marge Simpson</td>\n",
       "      <td>NaN</td>\n",
       "    </tr>\n",
       "    <tr>\n",
       "      <th>60431</th>\n",
       "      <td>Paul Bunyan</td>\n",
       "      <td>We've been together a long time now. When are ...</td>\n",
       "    </tr>\n",
       "    <tr>\n",
       "      <th>60432</th>\n",
       "      <td>Marge Simpson</td>\n",
       "      <td>Soon. I just need a few more yoga classes.</td>\n",
       "    </tr>\n",
       "    <tr>\n",
       "      <th>60433</th>\n",
       "      <td>Marge Simpson</td>\n",
       "      <td>Oh, look! A shooting star!</td>\n",
       "    </tr>\n",
       "    <tr>\n",
       "      <th>60434</th>\n",
       "      <td>Professor Jonathan Frink</td>\n",
       "      <td>That meteor's headed straight for us, with the...</td>\n",
       "    </tr>\n",
       "    <tr>\n",
       "      <th>60435</th>\n",
       "      <td>Rev. Timothy Lovejoy</td>\n",
       "      <td>God has sent this fiery killrock to show us hi...</td>\n",
       "    </tr>\n",
       "    <tr>\n",
       "      <th>60436</th>\n",
       "      <td>Villagers</td>\n",
       "      <td>No, we're gonna die! / Oh no! /</td>\n",
       "    </tr>\n",
       "    <tr>\n",
       "      <th>60437</th>\n",
       "      <td>Mayor Joe Quimby</td>\n",
       "      <td>There's only one man who can save us...</td>\n",
       "    </tr>\n",
       "    <tr>\n",
       "      <th>60438</th>\n",
       "      <td>Homer Simpson</td>\n",
       "      <td>Man, buffalo are easy to kill.</td>\n",
       "    </tr>\n",
       "    <tr>\n",
       "      <th>60439</th>\n",
       "      <td>Paul Bunyan</td>\n",
       "      <td>Oh, I get it. When I'm crushing and killing yo...</td>\n",
       "    </tr>\n",
       "    <tr>\n",
       "      <th>60440</th>\n",
       "      <td>Lenny Leonard</td>\n",
       "      <td>Yeah, that's pretty much it.</td>\n",
       "    </tr>\n",
       "  </tbody>\n",
       "</table>\n",
       "</div>"
      ],
      "text/plain": [
       "                           name  \\\n",
       "60430             Marge Simpson   \n",
       "60431               Paul Bunyan   \n",
       "60432             Marge Simpson   \n",
       "60433             Marge Simpson   \n",
       "60434  Professor Jonathan Frink   \n",
       "60435      Rev. Timothy Lovejoy   \n",
       "60436                 Villagers   \n",
       "60437          Mayor Joe Quimby   \n",
       "60438             Homer Simpson   \n",
       "60439               Paul Bunyan   \n",
       "60440             Lenny Leonard   \n",
       "\n",
       "                                                    line  \n",
       "60430                                                NaN  \n",
       "60431  We've been together a long time now. When are ...  \n",
       "60432         Soon. I just need a few more yoga classes.  \n",
       "60433                         Oh, look! A shooting star!  \n",
       "60434  That meteor's headed straight for us, with the...  \n",
       "60435  God has sent this fiery killrock to show us hi...  \n",
       "60436                    No, we're gonna die! / Oh no! /  \n",
       "60437            There's only one man who can save us...  \n",
       "60438                     Man, buffalo are easy to kill.  \n",
       "60439  Oh, I get it. When I'm crushing and killing yo...  \n",
       "60440                       Yeah, that's pretty much it.  "
      ]
     },
     "execution_count": 57,
     "metadata": {},
     "output_type": "execute_result"
    }
   ],
   "source": [
    "data = pd.read_csv('simpsons.tsv', sep='\\t')\n",
    "CHARACTER_NAME = 'Homer Simpson'\n",
    "print(len(data))\n",
    "data.head()\n",
    "data[data['line'] == 'Man, buffalo are easy to kill.']\n",
    "data.iloc[60430:60441]"
   ]
  },
  {
   "cell_type": "code",
   "execution_count": 58,
   "id": "4cbe7c7d-d422-4946-8578-7519dfa7bc15",
   "metadata": {
    "tags": []
   },
   "outputs": [],
   "source": [
    "contexted = []\n",
    "\n",
    "n = 1\n",
    "\n",
    "for i in data[data.name == CHARACTER_NAME].index:\n",
    "  if i < n:\n",
    "    continue\n",
    "  row = []\n",
    "  prev = i - 1 - n # we additionally substract 1, so row will contain current responce and 7 previous responces  \n",
    "  for j in range(i, prev, -1):\n",
    "    row.append(data.line[j])\n",
    "  contexted.append(row)\n",
    "\n",
    "# print(len(contexted))\n",
    "\n",
    "columns = ['completion', 'prompt'] \n",
    "\n",
    "df = pd.DataFrame.from_records(contexted, columns=columns)"
   ]
  },
  {
   "cell_type": "code",
   "execution_count": 59,
   "id": "ca568d52-9094-40a8-a8cd-c83432f3af25",
   "metadata": {
    "tags": []
   },
   "outputs": [
    {
     "data": {
      "text/plain": [
       "29842"
      ]
     },
     "execution_count": 59,
     "metadata": {},
     "output_type": "execute_result"
    }
   ],
   "source": [
    "len(df)"
   ]
  },
  {
   "cell_type": "code",
   "execution_count": 60,
   "id": "aaf69f7d-4e77-44e8-8c14-7f5cf9b27fe2",
   "metadata": {
    "tags": []
   },
   "outputs": [
    {
     "data": {
      "text/plain": [
       "26423"
      ]
     },
     "execution_count": 60,
     "metadata": {},
     "output_type": "execute_result"
    }
   ],
   "source": [
    "df = df.dropna()\n",
    "len(df)"
   ]
  },
  {
   "cell_type": "code",
   "execution_count": 61,
   "id": "8f1bbd87-a004-40cf-aef9-403908cb6894",
   "metadata": {
    "tags": []
   },
   "outputs": [
    {
     "data": {
      "text/html": [
       "<div>\n",
       "<style scoped>\n",
       "    .dataframe tbody tr th:only-of-type {\n",
       "        vertical-align: middle;\n",
       "    }\n",
       "\n",
       "    .dataframe tbody tr th {\n",
       "        vertical-align: top;\n",
       "    }\n",
       "\n",
       "    .dataframe thead th {\n",
       "        text-align: right;\n",
       "    }\n",
       "</style>\n",
       "<table border=\"1\" class=\"dataframe\">\n",
       "  <thead>\n",
       "    <tr style=\"text-align: right;\">\n",
       "      <th></th>\n",
       "      <th>completion</th>\n",
       "      <th>prompt</th>\n",
       "    </tr>\n",
       "  </thead>\n",
       "  <tbody>\n",
       "    <tr>\n",
       "      <th>5254</th>\n",
       "      <td>Lisa! Lisa!</td>\n",
       "      <td>I'm Sergeant Pepper's Lonely Hearts Club Man.....</td>\n",
       "    </tr>\n",
       "    <tr>\n",
       "      <th>23419</th>\n",
       "      <td>Dave?</td>\n",
       "      <td>No man, I'm Dave. D-A-V-E!</td>\n",
       "    </tr>\n",
       "    <tr>\n",
       "      <th>21001</th>\n",
       "      <td>Here you go, son. Shell casings.</td>\n",
       "      <td>Daddy's home! I brought you kids some stuff fr...</td>\n",
       "    </tr>\n",
       "    <tr>\n",
       "      <th>19264</th>\n",
       "      <td>Whoa, Marge, who'd you piss off?</td>\n",
       "      <td>Dear Pus Bag...</td>\n",
       "    </tr>\n",
       "    <tr>\n",
       "      <th>18270</th>\n",
       "      <td>You want me to ride a whatsickle built for who?</td>\n",
       "      <td>I'll take it! I can't believe I own a tandem b...</td>\n",
       "    </tr>\n",
       "    <tr>\n",
       "      <th>22290</th>\n",
       "      <td>Uh-oh, here comes a train.</td>\n",
       "      <td>I'm almost there... I can see the church steep...</td>\n",
       "    </tr>\n",
       "  </tbody>\n",
       "</table>\n",
       "</div>"
      ],
      "text/plain": [
       "                                            completion  \\\n",
       "5254                                       Lisa! Lisa!   \n",
       "23419                                            Dave?   \n",
       "21001                 Here you go, son. Shell casings.   \n",
       "19264                 Whoa, Marge, who'd you piss off?   \n",
       "18270  You want me to ride a whatsickle built for who?   \n",
       "22290                       Uh-oh, here comes a train.   \n",
       "\n",
       "                                                  prompt  \n",
       "5254   I'm Sergeant Pepper's Lonely Hearts Club Man.....  \n",
       "23419                         No man, I'm Dave. D-A-V-E!  \n",
       "21001  Daddy's home! I brought you kids some stuff fr...  \n",
       "19264                                    Dear Pus Bag...  \n",
       "18270  I'll take it! I can't believe I own a tandem b...  \n",
       "22290  I'm almost there... I can see the church steep...  "
      ]
     },
     "execution_count": 61,
     "metadata": {},
     "output_type": "execute_result"
    }
   ],
   "source": [
    "df.sample(6)"
   ]
  },
  {
   "cell_type": "code",
   "execution_count": 64,
   "id": "30048ae8-d61a-46ca-a9b5-99a9d99521d1",
   "metadata": {
    "tags": []
   },
   "outputs": [
    {
     "data": {
      "text/plain": [
       "Index(['completion', 'prompt'], dtype='object')"
      ]
     },
     "execution_count": 64,
     "metadata": {},
     "output_type": "execute_result"
    }
   ],
   "source": [
    "df.keys()"
   ]
  },
  {
   "cell_type": "code",
   "execution_count": 65,
   "id": "1ee7d73a-7ed5-4f20-b001-eec44f228ca3",
   "metadata": {
    "tags": []
   },
   "outputs": [],
   "source": [
    "df.to_csv('simpsons_openai.tsv', sep='\\t',index=False)"
   ]
  },
  {
   "cell_type": "code",
   "execution_count": 66,
   "id": "13750c3d-3329-44f8-9b33-e86c5b7d63a5",
   "metadata": {
    "tags": []
   },
   "outputs": [
    {
     "data": {
      "text/html": [
       "<div>\n",
       "<style scoped>\n",
       "    .dataframe tbody tr th:only-of-type {\n",
       "        vertical-align: middle;\n",
       "    }\n",
       "\n",
       "    .dataframe tbody tr th {\n",
       "        vertical-align: top;\n",
       "    }\n",
       "\n",
       "    .dataframe thead th {\n",
       "        text-align: right;\n",
       "    }\n",
       "</style>\n",
       "<table border=\"1\" class=\"dataframe\">\n",
       "  <thead>\n",
       "    <tr style=\"text-align: right;\">\n",
       "      <th></th>\n",
       "      <th>completion</th>\n",
       "      <th>prompt</th>\n",
       "    </tr>\n",
       "  </thead>\n",
       "  <tbody>\n",
       "    <tr>\n",
       "      <th>0</th>\n",
       "      <td>Never thrown a party? What about that big bash...</td>\n",
       "      <td>Goodbye, Lisa honey. It'll be okay. Just read ...</td>\n",
       "    </tr>\n",
       "    <tr>\n",
       "      <th>1</th>\n",
       "      <td>Bart didn't get one vote?! Oh, this is the wor...</td>\n",
       "      <td>Never thrown a party? What about that big bash...</td>\n",
       "    </tr>\n",
       "    <tr>\n",
       "      <th>2</th>\n",
       "      <td>Oh.</td>\n",
       "      <td>Mr. Bergstrom left today.</td>\n",
       "    </tr>\n",
       "    <tr>\n",
       "      <th>3</th>\n",
       "      <td>And?</td>\n",
       "      <td>He's gone. Forever.</td>\n",
       "    </tr>\n",
       "    <tr>\n",
       "      <th>4</th>\n",
       "      <td>Hey, just because I don't care doesn't mean I ...</td>\n",
       "      <td>I didn't think you'd understand.</td>\n",
       "    </tr>\n",
       "  </tbody>\n",
       "</table>\n",
       "</div>"
      ],
      "text/plain": [
       "                                          completion  \\\n",
       "0  Never thrown a party? What about that big bash...   \n",
       "1  Bart didn't get one vote?! Oh, this is the wor...   \n",
       "2                                                Oh.   \n",
       "3                                               And?   \n",
       "4  Hey, just because I don't care doesn't mean I ...   \n",
       "\n",
       "                                              prompt  \n",
       "0  Goodbye, Lisa honey. It'll be okay. Just read ...  \n",
       "1  Never thrown a party? What about that big bash...  \n",
       "2                          Mr. Bergstrom left today.  \n",
       "3                                He's gone. Forever.  \n",
       "4                   I didn't think you'd understand.  "
      ]
     },
     "execution_count": 66,
     "metadata": {},
     "output_type": "execute_result"
    }
   ],
   "source": [
    "pd.read_csv('simpsons_openai.tsv',sep='\\t').head()"
   ]
  },
  {
   "cell_type": "code",
   "execution_count": null,
   "id": "1d643b2e-9c67-43a9-bc0f-520edf571cae",
   "metadata": {},
   "outputs": [],
   "source": []
  }
 ],
 "metadata": {
  "kernelspec": {
   "display_name": "Python 3 (ipykernel)",
   "language": "python",
   "name": "python3"
  },
  "language_info": {
   "codemirror_mode": {
    "name": "ipython",
    "version": 3
   },
   "file_extension": ".py",
   "mimetype": "text/x-python",
   "name": "python",
   "nbconvert_exporter": "python",
   "pygments_lexer": "ipython3",
   "version": "3.10.8"
  }
 },
 "nbformat": 4,
 "nbformat_minor": 5
}
