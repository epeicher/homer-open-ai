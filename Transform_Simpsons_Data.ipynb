{
 "cells": [
  {
   "cell_type": "code",
   "execution_count": 1,
   "id": "a8b1800e-6deb-40d6-8c41-fb012acccc05",
   "metadata": {
    "tags": []
   },
   "outputs": [],
   "source": [
    "import pandas as pd\n"
   ]
  },
  {
   "cell_type": "code",
   "execution_count": 2,
   "id": "ee8d0193-5675-401d-b600-fbb38b692c61",
   "metadata": {
    "tags": []
   },
   "outputs": [
    {
     "name": "stdout",
     "output_type": "stream",
     "text": [
      "140751\n"
     ]
    },
    {
     "data": {
      "text/html": [
       "<div>\n",
       "<style scoped>\n",
       "    .dataframe tbody tr th:only-of-type {\n",
       "        vertical-align: middle;\n",
       "    }\n",
       "\n",
       "    .dataframe tbody tr th {\n",
       "        vertical-align: top;\n",
       "    }\n",
       "\n",
       "    .dataframe thead th {\n",
       "        text-align: right;\n",
       "    }\n",
       "</style>\n",
       "<table border=\"1\" class=\"dataframe\">\n",
       "  <thead>\n",
       "    <tr style=\"text-align: right;\">\n",
       "      <th></th>\n",
       "      <th>name</th>\n",
       "      <th>line</th>\n",
       "    </tr>\n",
       "  </thead>\n",
       "  <tbody>\n",
       "    <tr>\n",
       "      <th>60430</th>\n",
       "      <td>Marge Simpson</td>\n",
       "      <td>NaN</td>\n",
       "    </tr>\n",
       "    <tr>\n",
       "      <th>60431</th>\n",
       "      <td>Paul Bunyan</td>\n",
       "      <td>We've been together a long time now. When are ...</td>\n",
       "    </tr>\n",
       "    <tr>\n",
       "      <th>60432</th>\n",
       "      <td>Marge Simpson</td>\n",
       "      <td>Soon. I just need a few more yoga classes.</td>\n",
       "    </tr>\n",
       "    <tr>\n",
       "      <th>60433</th>\n",
       "      <td>Marge Simpson</td>\n",
       "      <td>Oh, look! A shooting star!</td>\n",
       "    </tr>\n",
       "    <tr>\n",
       "      <th>60434</th>\n",
       "      <td>Professor Jonathan Frink</td>\n",
       "      <td>That meteor's headed straight for us, with the...</td>\n",
       "    </tr>\n",
       "    <tr>\n",
       "      <th>60435</th>\n",
       "      <td>Rev. Timothy Lovejoy</td>\n",
       "      <td>God has sent this fiery killrock to show us hi...</td>\n",
       "    </tr>\n",
       "    <tr>\n",
       "      <th>60436</th>\n",
       "      <td>Villagers</td>\n",
       "      <td>No, we're gonna die! / Oh no! /</td>\n",
       "    </tr>\n",
       "    <tr>\n",
       "      <th>60437</th>\n",
       "      <td>Mayor Joe Quimby</td>\n",
       "      <td>There's only one man who can save us...</td>\n",
       "    </tr>\n",
       "    <tr>\n",
       "      <th>60438</th>\n",
       "      <td>Homer Simpson</td>\n",
       "      <td>Man, buffalo are easy to kill.</td>\n",
       "    </tr>\n",
       "    <tr>\n",
       "      <th>60439</th>\n",
       "      <td>Paul Bunyan</td>\n",
       "      <td>Oh, I get it. When I'm crushing and killing yo...</td>\n",
       "    </tr>\n",
       "    <tr>\n",
       "      <th>60440</th>\n",
       "      <td>Lenny Leonard</td>\n",
       "      <td>Yeah, that's pretty much it.</td>\n",
       "    </tr>\n",
       "  </tbody>\n",
       "</table>\n",
       "</div>"
      ],
      "text/plain": [
       "                           name  \\\n",
       "60430             Marge Simpson   \n",
       "60431               Paul Bunyan   \n",
       "60432             Marge Simpson   \n",
       "60433             Marge Simpson   \n",
       "60434  Professor Jonathan Frink   \n",
       "60435      Rev. Timothy Lovejoy   \n",
       "60436                 Villagers   \n",
       "60437          Mayor Joe Quimby   \n",
       "60438             Homer Simpson   \n",
       "60439               Paul Bunyan   \n",
       "60440             Lenny Leonard   \n",
       "\n",
       "                                                    line  \n",
       "60430                                                NaN  \n",
       "60431  We've been together a long time now. When are ...  \n",
       "60432         Soon. I just need a few more yoga classes.  \n",
       "60433                         Oh, look! A shooting star!  \n",
       "60434  That meteor's headed straight for us, with the...  \n",
       "60435  God has sent this fiery killrock to show us hi...  \n",
       "60436                    No, we're gonna die! / Oh no! /  \n",
       "60437            There's only one man who can save us...  \n",
       "60438                     Man, buffalo are easy to kill.  \n",
       "60439  Oh, I get it. When I'm crushing and killing yo...  \n",
       "60440                       Yeah, that's pretty much it.  "
      ]
     },
     "execution_count": 2,
     "metadata": {},
     "output_type": "execute_result"
    }
   ],
   "source": [
    "data = pd.read_csv('simpsons.tsv', sep='\\t')\n",
    "CHARACTER_NAME = 'Homer Simpson'\n",
    "print(len(data))\n",
    "data.head()\n",
    "data[data['line'] == 'Man, buffalo are easy to kill.']\n",
    "data.iloc[60430:60441]"
   ]
  },
  {
   "cell_type": "code",
   "execution_count": 3,
   "id": "4cbe7c7d-d422-4946-8578-7519dfa7bc15",
   "metadata": {
    "tags": []
   },
   "outputs": [],
   "source": [
    "contexted = []\n",
    "\n",
    "n = 1\n",
    "\n",
    "for i in data[data.name == CHARACTER_NAME].index:\n",
    "  if i < n:\n",
    "    continue\n",
    "  row = []\n",
    "  prev = i - 1 - n # we additionally substract 1, so row will contain current responce and 7 previous responces  \n",
    "  for j in range(i, prev, -1):\n",
    "    row.append(data.line[j])\n",
    "  contexted.append(row)\n",
    "\n",
    "# print(len(contexted))\n",
    "\n",
    "columns = ['completion', 'prompt'] \n",
    "\n",
    "df = pd.DataFrame.from_records(contexted, columns=columns)"
   ]
  },
  {
   "cell_type": "code",
   "execution_count": 4,
   "id": "ca568d52-9094-40a8-a8cd-c83432f3af25",
   "metadata": {
    "tags": []
   },
   "outputs": [
    {
     "data": {
      "text/plain": [
       "29842"
      ]
     },
     "execution_count": 4,
     "metadata": {},
     "output_type": "execute_result"
    }
   ],
   "source": [
    "len(df)"
   ]
  },
  {
   "cell_type": "code",
   "execution_count": 5,
   "id": "aaf69f7d-4e77-44e8-8c14-7f5cf9b27fe2",
   "metadata": {
    "tags": []
   },
   "outputs": [
    {
     "data": {
      "text/plain": [
       "26423"
      ]
     },
     "execution_count": 5,
     "metadata": {},
     "output_type": "execute_result"
    }
   ],
   "source": [
    "df = df.dropna()\n",
    "len(df)"
   ]
  },
  {
   "cell_type": "code",
   "execution_count": 6,
   "id": "8f1bbd87-a004-40cf-aef9-403908cb6894",
   "metadata": {
    "tags": []
   },
   "outputs": [
    {
     "data": {
      "text/html": [
       "<div>\n",
       "<style scoped>\n",
       "    .dataframe tbody tr th:only-of-type {\n",
       "        vertical-align: middle;\n",
       "    }\n",
       "\n",
       "    .dataframe tbody tr th {\n",
       "        vertical-align: top;\n",
       "    }\n",
       "\n",
       "    .dataframe thead th {\n",
       "        text-align: right;\n",
       "    }\n",
       "</style>\n",
       "<table border=\"1\" class=\"dataframe\">\n",
       "  <thead>\n",
       "    <tr style=\"text-align: right;\">\n",
       "      <th></th>\n",
       "      <th>completion</th>\n",
       "      <th>prompt</th>\n",
       "    </tr>\n",
       "  </thead>\n",
       "  <tbody>\n",
       "    <tr>\n",
       "      <th>25780</th>\n",
       "      <td>And if it's such a \"Good Book,\" how come there...</td>\n",
       "      <td>Padre, can I be honest with you? I've sucked e...</td>\n",
       "    </tr>\n",
       "    <tr>\n",
       "      <th>14342</th>\n",
       "      <td>You might hear from your friends or co-workers...</td>\n",
       "      <td>Kids, we want to talk to you about something.</td>\n",
       "    </tr>\n",
       "    <tr>\n",
       "      <th>4786</th>\n",
       "      <td>I'll never be able to do this trick... never.</td>\n",
       "      <td>Okay.</td>\n",
       "    </tr>\n",
       "    <tr>\n",
       "      <th>12618</th>\n",
       "      <td>And his fondness for the guitar.</td>\n",
       "      <td>Wow. The artist really captured Jimi's passion...</td>\n",
       "    </tr>\n",
       "    <tr>\n",
       "      <th>17983</th>\n",
       "      <td>Shut up, Flanders. But some things I could nev...</td>\n",
       "      <td>Well, that is true. In fact--</td>\n",
       "    </tr>\n",
       "    <tr>\n",
       "      <th>7542</th>\n",
       "      <td>Me? But you were doing such a great job.</td>\n",
       "      <td>Uh-huh. Half a brain, huh? Well, you know what...</td>\n",
       "    </tr>\n",
       "  </tbody>\n",
       "</table>\n",
       "</div>"
      ],
      "text/plain": [
       "                                              completion  \\\n",
       "25780  And if it's such a \"Good Book,\" how come there...   \n",
       "14342  You might hear from your friends or co-workers...   \n",
       "4786       I'll never be able to do this trick... never.   \n",
       "12618                   And his fondness for the guitar.   \n",
       "17983  Shut up, Flanders. But some things I could nev...   \n",
       "7542            Me? But you were doing such a great job.   \n",
       "\n",
       "                                                  prompt  \n",
       "25780  Padre, can I be honest with you? I've sucked e...  \n",
       "14342      Kids, we want to talk to you about something.  \n",
       "4786                                               Okay.  \n",
       "12618  Wow. The artist really captured Jimi's passion...  \n",
       "17983                      Well, that is true. In fact--  \n",
       "7542   Uh-huh. Half a brain, huh? Well, you know what...  "
      ]
     },
     "execution_count": 6,
     "metadata": {},
     "output_type": "execute_result"
    }
   ],
   "source": [
    "df.sample(6)"
   ]
  },
  {
   "cell_type": "code",
   "execution_count": 7,
   "id": "1ee7d73a-7ed5-4f20-b001-eec44f228ca3",
   "metadata": {
    "tags": []
   },
   "outputs": [],
   "source": [
    "df.to_csv('simpsons_openai.tsv', sep='\\t',index=False)"
   ]
  },
  {
   "cell_type": "markdown",
   "id": "8e2962e6-f000-4140-a6e7-e035c39a7533",
   "metadata": {
    "tags": []
   },
   "source": [
    "## Calculate the number of tokens"
   ]
  },
  {
   "cell_type": "code",
   "execution_count": 21,
   "id": "1d643b2e-9c67-43a9-bc0f-520edf571cae",
   "metadata": {
    "tags": []
   },
   "outputs": [],
   "source": [
    "import tiktoken\n",
    "encoding = tiktoken.get_encoding(\"cl100k_base\")\n",
    "encoding = tiktoken.encoding_for_model(\"davinci\")"
   ]
  },
  {
   "cell_type": "code",
   "execution_count": 61,
   "id": "66eb6c80-e7fc-4abc-a13e-63e743c04e28",
   "metadata": {
    "tags": []
   },
   "outputs": [],
   "source": [
    "def num_tokens_from_messages(messages, model=\"gpt-3.5-turbo-0301\"):\n",
    "    \"\"\"Returns the number of tokens used by a list of messages.\"\"\"\n",
    "    try:\n",
    "        encoding = tiktoken.encoding_for_model(model)\n",
    "    except KeyError:\n",
    "        encoding = tiktoken.get_encoding(\"cl100k_base\")\n",
    "\n",
    "    num_tokens = 0\n",
    "    for message in messages:\n",
    "        for value in message:\n",
    "            num_tokens += len(encoding.encode(value))\n",
    "    return num_tokens\n"
   ]
  },
  {
   "cell_type": "code",
   "execution_count": 62,
   "id": "4a71cec7-5d46-4e25-ae51-5de5a9a97b25",
   "metadata": {
    "tags": []
   },
   "outputs": [],
   "source": [
    "messages = pd.read_json('simpsons_openai_prepared.jsonl', lines=True)\n",
    "messages = messages.values.tolist()"
   ]
  },
  {
   "cell_type": "code",
   "execution_count": 63,
   "id": "8f97d4bc-50d5-4bf9-a07c-6dbf63b44958",
   "metadata": {
    "tags": []
   },
   "outputs": [
    {
     "name": "stdout",
     "output_type": "stream",
     "text": [
      "869921 prompt tokens counted.\n",
      "The estimated cost is 26.09763\n"
     ]
    }
   ],
   "source": [
    "model = 'davinci'\n",
    "cost_per_token = 0.03 / 1000.0\n",
    "num_tokens = num_tokens_from_messages(messages, model)\n",
    "print(f\"{num_tokens} prompt tokens counted.\")\n",
    "cost = num_tokens * cost_per_token\n",
    "print(f\"The estimated cost is {cost}\")"
   ]
  },
  {
   "cell_type": "code",
   "execution_count": 64,
   "id": "2e22ecfc-d912-4503-a5df-e90c02026e2d",
   "metadata": {
    "tags": []
   },
   "outputs": [
    {
     "name": "stdout",
     "output_type": "stream",
     "text": [
      "869921 prompt tokens counted.\n",
      "The estimated cost is 0.5219526\n"
     ]
    }
   ],
   "source": [
    "model = 'babbage'\n",
    "cost_per_token = 0.0006 / 1000.0\n",
    "num_tokens = num_tokens_from_messages(messages, model)\n",
    "print(f\"{num_tokens} prompt tokens counted.\")\n",
    "cost = num_tokens * cost_per_token\n",
    "print(f\"The estimated cost is {cost}\")"
   ]
  },
  {
   "cell_type": "code",
   "execution_count": 65,
   "id": "3a3a3c69-b669-4a8a-b812-fac8b5234151",
   "metadata": {
    "tags": []
   },
   "outputs": [
    {
     "name": "stdout",
     "output_type": "stream",
     "text": [
      "869921 prompt tokens counted.\n",
      "The estimated cost is 2.609763\n"
     ]
    }
   ],
   "source": [
    "model = 'curie'\n",
    "cost_per_token = 0.003 / 1000.0\n",
    "num_tokens = num_tokens_from_messages(messages, model)\n",
    "print(f\"{num_tokens} prompt tokens counted.\")\n",
    "cost = num_tokens * cost_per_token\n",
    "print(f\"The estimated cost is {cost}\")"
   ]
  },
  {
   "cell_type": "code",
   "execution_count": 69,
   "id": "91a0f9f4-38a7-4dce-af8d-9ef6ef3c2c30",
   "metadata": {
    "tags": []
   },
   "outputs": [
    {
     "name": "stdout",
     "output_type": "stream",
     "text": [
      "Goodbye, Lisa honey. It'll be okay. Just read the note.\n",
      "\n",
      "###\n",
      "\n",
      "\n"
     ]
    },
    {
     "data": {
      "text/plain": [
       "20"
      ]
     },
     "execution_count": 69,
     "metadata": {},
     "output_type": "execute_result"
    }
   ],
   "source": [
    "message_example = messages[0][0]\n",
    "print(message_example)\n",
    "enc = encoding.encode(message_example)\n",
    "len(enc)"
   ]
  },
  {
   "cell_type": "code",
   "execution_count": null,
   "id": "8cc292ef-6f08-406c-a038-33b1ae21f70e",
   "metadata": {},
   "outputs": [],
   "source": []
  }
 ],
 "metadata": {
  "kernelspec": {
   "display_name": "Python 3 (ipykernel)",
   "language": "python",
   "name": "python3"
  },
  "language_info": {
   "codemirror_mode": {
    "name": "ipython",
    "version": 3
   },
   "file_extension": ".py",
   "mimetype": "text/x-python",
   "name": "python",
   "nbconvert_exporter": "python",
   "pygments_lexer": "ipython3",
   "version": "3.10.8"
  }
 },
 "nbformat": 4,
 "nbformat_minor": 5
}
